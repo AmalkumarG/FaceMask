{
 "cells": [
  {
   "cell_type": "code",
   "execution_count": 1,
   "metadata": {},
   "outputs": [
    {
     "name": "stderr",
     "output_type": "stream",
     "text": [
      "D:\\ProgramData\\Anaconda3\\lib\\site-packages\\tensorflow\\python\\framework\\dtypes.py:526: FutureWarning: Passing (type, 1) or '1type' as a synonym of type is deprecated; in a future version of numpy, it will be understood as (type, (1,)) / '(1,)type'.\n",
      "  _np_qint8 = np.dtype([(\"qint8\", np.int8, 1)])\n",
      "D:\\ProgramData\\Anaconda3\\lib\\site-packages\\tensorflow\\python\\framework\\dtypes.py:527: FutureWarning: Passing (type, 1) or '1type' as a synonym of type is deprecated; in a future version of numpy, it will be understood as (type, (1,)) / '(1,)type'.\n",
      "  _np_quint8 = np.dtype([(\"quint8\", np.uint8, 1)])\n",
      "D:\\ProgramData\\Anaconda3\\lib\\site-packages\\tensorflow\\python\\framework\\dtypes.py:528: FutureWarning: Passing (type, 1) or '1type' as a synonym of type is deprecated; in a future version of numpy, it will be understood as (type, (1,)) / '(1,)type'.\n",
      "  _np_qint16 = np.dtype([(\"qint16\", np.int16, 1)])\n",
      "D:\\ProgramData\\Anaconda3\\lib\\site-packages\\tensorflow\\python\\framework\\dtypes.py:529: FutureWarning: Passing (type, 1) or '1type' as a synonym of type is deprecated; in a future version of numpy, it will be understood as (type, (1,)) / '(1,)type'.\n",
      "  _np_quint16 = np.dtype([(\"quint16\", np.uint16, 1)])\n",
      "D:\\ProgramData\\Anaconda3\\lib\\site-packages\\tensorflow\\python\\framework\\dtypes.py:530: FutureWarning: Passing (type, 1) or '1type' as a synonym of type is deprecated; in a future version of numpy, it will be understood as (type, (1,)) / '(1,)type'.\n",
      "  _np_qint32 = np.dtype([(\"qint32\", np.int32, 1)])\n",
      "D:\\ProgramData\\Anaconda3\\lib\\site-packages\\tensorflow\\python\\framework\\dtypes.py:535: FutureWarning: Passing (type, 1) or '1type' as a synonym of type is deprecated; in a future version of numpy, it will be understood as (type, (1,)) / '(1,)type'.\n",
      "  np_resource = np.dtype([(\"resource\", np.ubyte, 1)])\n"
     ]
    }
   ],
   "source": [
    "from tensorflow.keras.preprocessing.image import ImageDataGenerator\n",
    "#from tensorflow.keras.applications import MobileNetV2\n",
    "import mrcnn.model as modellib\n",
    "from tensorflow.keras.layers import AveragePooling2D\n",
    "from tensorflow.keras.layers import Dropout\n",
    "from tensorflow.keras.layers import Flatten\n",
    "from tensorflow.keras.layers import Dense\n",
    "from tensorflow.keras.layers import Input\n",
    "from tensorflow.keras.models import Model\n",
    "from tensorflow.keras.optimizers import Adam\n",
    "from tensorflow.keras.applications.mobilenet_v2 import preprocess_input\n",
    "from tensorflow.keras.preprocessing.image import img_to_array\n",
    "from tensorflow.keras.preprocessing.image import load_img\n",
    "from tensorflow.keras.utils import to_categorical\n",
    "from sklearn.preprocessing import LabelBinarizer\n",
    "from sklearn.model_selection import train_test_split\n",
    "from sklearn.metrics import classification_report\n",
    "from imutils import paths\n",
    "import matplotlib.pyplot as plt\n",
    "import numpy as np\n",
    "import os"
   ]
  },
  {
   "cell_type": "code",
   "execution_count": 4,
   "metadata": {},
   "outputs": [],
   "source": [
    "INIT_LR = 1e-4\n",
    "EPOCHS = 20\n",
    "BS = 32"
   ]
  },
  {
   "cell_type": "code",
   "execution_count": 5,
   "metadata": {},
   "outputs": [
    {
     "name": "stdout",
     "output_type": "stream",
     "text": [
      "[INFO] loading images...\n"
     ]
    }
   ],
   "source": [
    "imagePaths = list(paths.list_images('data'))\n",
    "data = []\n",
    "labels = []\n",
    "\n",
    "for imagePath in imagePaths:\n",
    "    label = imagePath.split(os.path.sep)[-2]\n",
    "    image = load_img(imagePath, target_size=(224, 224))\n",
    "    image = img_to_array(image)\n",
    "    image = preprocess_input(image)\n",
    "    \n",
    "    data.append(image)\n",
    "    labels.append(label)\n",
    "\n",
    "data = np.array(data, dtype=\"float32\")\n",
    "labels = np.array(labels)"
   ]
  },
  {
   "cell_type": "code",
   "execution_count": 6,
   "metadata": {},
   "outputs": [],
   "source": [
    "lb = LabelBinarizer()\n",
    "labels = lb.fit_transform(labels)\n",
    "labels = to_categorical(labels)\n",
    "\n",
    "(trainX, testX, trainY, testY) = train_test_split(data, labels,test_size=0.20, stratify=labels, random_state=42)\n",
    "\n",
    "aug = ImageDataGenerator(rotation_range=20,zoom_range=0.15,width_shift_range=0.2,height_shift_range=0.2,shear_range=0.15,horizontal_flip=True,fill_mode=\"nearest\")"
   ]
  },
  {
   "cell_type": "code",
   "execution_count": 7,
   "metadata": {},
   "outputs": [
    {
     "name": "stdout",
     "output_type": "stream",
     "text": [
      "WARNING:tensorflow:From D:\\ProgramData\\Anaconda3\\lib\\site-packages\\tensorflow\\python\\ops\\resource_variable_ops.py:435: colocate_with (from tensorflow.python.framework.ops) is deprecated and will be removed in a future version.\n",
      "Instructions for updating:\n",
      "Colocations handled automatically by placer.\n"
     ]
    },
    {
     "name": "stderr",
     "output_type": "stream",
     "text": [
      "D:\\ProgramData\\Anaconda3\\lib\\site-packages\\keras_applications\\mobilenet_v2.py:294: UserWarning: `input_shape` is undefined or non-square, or `rows` is not in [96, 128, 160, 192, 224]. Weights for input shape (224, 224) will be loaded as the default.\n",
      "  warnings.warn('`input_shape` is undefined or non-square, '\n"
     ]
    },
    {
     "name": "stdout",
     "output_type": "stream",
     "text": [
      "WARNING:tensorflow:From D:\\ProgramData\\Anaconda3\\lib\\site-packages\\tensorflow\\python\\keras\\layers\\core.py:143: calling dropout (from tensorflow.python.ops.nn_ops) with keep_prob is deprecated and will be removed in a future version.\n",
      "Instructions for updating:\n",
      "Please use `rate` instead of `keep_prob`. Rate should be set to `rate = 1 - keep_prob`.\n"
     ]
    }
   ],
   "source": [
    "baseModel = modellib.MaskRCNN(weights=\"imagenet\", include_top=False,input_tensor=Input(shape=(224, 224, 3)))\n",
    "\n",
    "headModel = baseModel.output\n",
    "headModel = AveragePooling2D(pool_size=(7, 7))(headModel)\n",
    "headModel = Flatten(name=\"flatten\")(headModel)\n",
    "headModel = Dense(128, activation=\"relu\")(headModel)\n",
    "headModel = Dropout(0.5)(headModel)\n",
    "headModel = Dense(2, activation=\"softmax\")(headModel)\n",
    "\n",
    "model = Model(inputs=baseModel.input, outputs=headModel)\n",
    "\n",
    "for layer in baseModel.layers:\n",
    "    layer.trainable = False"
   ]
  },
  {
   "cell_type": "code",
   "execution_count": 8,
   "metadata": {},
   "outputs": [
    {
     "name": "stdout",
     "output_type": "stream",
     "text": [
      "[INFO] compiling model...\n",
      "[INFO] training head...\n",
      "WARNING:tensorflow:From D:\\ProgramData\\Anaconda3\\lib\\site-packages\\tensorflow\\python\\ops\\math_ops.py:3066: to_int32 (from tensorflow.python.ops.math_ops) is deprecated and will be removed in a future version.\n",
      "Instructions for updating:\n",
      "Use tf.cast instead.\n",
      "Epoch 1/20\n",
      "276/276 [==============================] - 8s 29ms/sample - loss: 0.2734 - acc: 0.9130\n",
      "35/35 [==============================] - 126s 4s/step - loss: 0.7068 - acc: 0.6509 - val_loss: 0.2721 - val_acc: 0.9130\n",
      "Epoch 2/20\n",
      "276/276 [==============================] - 8s 29ms/sample - loss: 0.1921 - acc: 0.9457\n",
      "35/35 [==============================] - 129s 4s/step - loss: 0.4203 - acc: 0.8136 - val_loss: 0.1907 - val_acc: 0.9457\n",
      "Epoch 3/20\n",
      "276/276 [==============================] - 8s 28ms/sample - loss: 0.1305 - acc: 0.9601\n",
      "35/35 [==============================] - 129s 4s/step - loss: 0.2933 - acc: 0.8791 - val_loss: 0.1293 - val_acc: 0.9601\n",
      "Epoch 4/20\n",
      "276/276 [==============================] - 8s 29ms/sample - loss: 0.0922 - acc: 0.9819\n",
      "35/35 [==============================] - 128s 4s/step - loss: 0.2335 - acc: 0.9145 - val_loss: 0.0914 - val_acc: 0.9819\n",
      "Epoch 5/20\n",
      "276/276 [==============================] - 8s 28ms/sample - loss: 0.0802 - acc: 0.9783\n",
      "35/35 [==============================] - 133s 4s/step - loss: 0.2019 - acc: 0.9236 - val_loss: 0.0793 - val_acc: 0.9783\n",
      "Epoch 6/20\n",
      "276/276 [==============================] - 9s 31ms/sample - loss: 0.0802 - acc: 0.9819\n",
      "35/35 [==============================] - 145s 4s/step - loss: 0.1661 - acc: 0.9300 - val_loss: 0.0791 - val_acc: 0.9819\n",
      "Epoch 7/20\n",
      "276/276 [==============================] - 8s 29ms/sample - loss: 0.0812 - acc: 0.9746\n",
      "35/35 [==============================] - 140s 4s/step - loss: 0.1547 - acc: 0.9382 - val_loss: 0.0799 - val_acc: 0.9746\n",
      "Epoch 8/20\n",
      "276/276 [==============================] - 8s 29ms/sample - loss: 0.0611 - acc: 0.9819\n",
      "35/35 [==============================] - 134s 4s/step - loss: 0.1359 - acc: 0.9509 - val_loss: 0.0601 - val_acc: 0.9819\n",
      "Epoch 9/20\n",
      "276/276 [==============================] - 8s 29ms/sample - loss: 0.0605 - acc: 0.9819\n",
      "35/35 [==============================] - 132s 4s/step - loss: 0.1245 - acc: 0.9582 - val_loss: 0.0594 - val_acc: 0.9819\n",
      "Epoch 10/20\n",
      "276/276 [==============================] - 8s 29ms/sample - loss: 0.0932 - acc: 0.9710\n",
      "35/35 [==============================] - 135s 4s/step - loss: 0.1189 - acc: 0.9500 - val_loss: 0.0911 - val_acc: 0.9710\n",
      "Epoch 11/20\n",
      "276/276 [==============================] - 8s 30ms/sample - loss: 0.0683 - acc: 0.9855\n",
      "35/35 [==============================] - 143s 4s/step - loss: 0.1244 - acc: 0.9555 - val_loss: 0.0666 - val_acc: 0.9855\n",
      "Epoch 12/20\n",
      "276/276 [==============================] - 8s 30ms/sample - loss: 0.0592 - acc: 0.9855\n",
      "35/35 [==============================] - 140s 4s/step - loss: 0.1201 - acc: 0.9518 - val_loss: 0.0577 - val_acc: 0.9855\n",
      "Epoch 13/20\n",
      "276/276 [==============================] - 8s 30ms/sample - loss: 0.0566 - acc: 0.9855\n",
      "35/35 [==============================] - 135s 4s/step - loss: 0.1269 - acc: 0.9464 - val_loss: 0.0551 - val_acc: 0.9855\n",
      "Epoch 14/20\n",
      "276/276 [==============================] - 8s 30ms/sample - loss: 0.0444 - acc: 0.9783\n",
      "35/35 [==============================] - 133s 4s/step - loss: 0.0972 - acc: 0.9664 - val_loss: 0.0433 - val_acc: 0.9783\n",
      "Epoch 15/20\n",
      "276/276 [==============================] - 8s 30ms/sample - loss: 0.0522 - acc: 0.9891\n",
      "35/35 [==============================] - 134s 4s/step - loss: 0.1032 - acc: 0.9609 - val_loss: 0.0508 - val_acc: 0.9891\n",
      "Epoch 16/20\n",
      "276/276 [==============================] - 8s 30ms/sample - loss: 0.0431 - acc: 0.9783\n",
      "35/35 [==============================] - 133s 4s/step - loss: 0.1184 - acc: 0.9509 - val_loss: 0.0420 - val_acc: 0.9783\n",
      "Epoch 17/20\n",
      "276/276 [==============================] - 9s 31ms/sample - loss: 0.0396 - acc: 0.9819\n",
      "35/35 [==============================] - 146s 4s/step - loss: 0.0805 - acc: 0.9745 - val_loss: 0.0385 - val_acc: 0.9819\n",
      "Epoch 18/20\n",
      "276/276 [==============================] - 8s 30ms/sample - loss: 0.0426 - acc: 0.9891\n",
      "35/35 [==============================] - 140s 4s/step - loss: 0.0690 - acc: 0.9736 - val_loss: 0.0414 - val_acc: 0.9891\n",
      "Epoch 19/20\n",
      "276/276 [==============================] - 8s 30ms/sample - loss: 0.0418 - acc: 0.9891\n",
      "35/35 [==============================] - 135s 4s/step - loss: 0.1077 - acc: 0.9609 - val_loss: 0.0406 - val_acc: 0.9891\n",
      "Epoch 20/20\n",
      "276/276 [==============================] - 8s 30ms/sample - loss: 0.0383 - acc: 0.9891\n",
      "35/35 [==============================] - 141s 4s/step - loss: 0.0801 - acc: 0.9664 - val_loss: 0.0372 - val_acc: 0.9891\n"
     ]
    }
   ],
   "source": [
    "opt = Adam(lr=INIT_LR, decay=INIT_LR / EPOCHS)\n",
    "model.compile(loss=\"binary_crossentropy\", optimizer=opt, metrics=[\"accuracy\"])\n",
    "\n",
    "H = model.fit(aug.flow(trainX, trainY, batch_size=BS),steps_per_epoch=len(trainX) // BS,validation_data=(testX, testY),validation_steps=len(testX) // BS,epochs=EPOCHS)"
   ]
  },
  {
   "cell_type": "code",
   "execution_count": 10,
   "metadata": {},
   "outputs": [
    {
     "name": "stdout",
     "output_type": "stream",
     "text": [
      "[INFO] evaluating network...\n",
      "                   precision    recall  f1-score   support\n",
      "\n",
      "   data/with_mask       0.98      1.00      0.99       138\n",
      "data/without_mask       1.00      0.98      0.99       138\n",
      "\n",
      "         accuracy                           0.99       276\n",
      "        macro avg       0.99      0.99      0.99       276\n",
      "     weighted avg       0.99      0.99      0.99       276\n",
      "\n",
      "[INFO] saving mask detector model...\n"
     ]
    }
   ],
   "source": [
    "predIdxs = model.predict(testX, batch_size=BS)\n",
    "predIdxs = np.argmax(predIdxs, axis=1)\n",
    "print(classification_report(testY.argmax(axis=1), predIdxs,target_names=lb.classes_))\n",
    "\n",
    "model.save('mask_detector.model')"
   ]
  },
  {
   "cell_type": "code",
   "execution_count": 13,
   "metadata": {},
   "outputs": [
    {
     "data": {
      "image/png": "[encoded data removed]",
      "text/plain": [
       "<Figure size 432x288 with 1 Axes>"
      ]
     },
     "metadata": {},
     "output_type": "display_data"
    }
   ],
   "source": [
    "N = EPOCHS\n",
    "plt.style.use(\"ggplot\")\n",
    "plt.figure()\n",
    "plt.plot(np.arange(0, N), H.history[\"loss\"], label=\"train_loss\")\n",
    "plt.plot(np.arange(0, N), H.history[\"val_loss\"], label=\"val_loss\")\n",
    "plt.plot(np.arange(0, N), H.history[\"acc\"], label=\"train_acc\")\n",
    "plt.plot(np.arange(0, N), H.history[\"val_acc\"], label=\"val_acc\")\n",
    "plt.title(\"Training Loss and Accuracy\")\n",
    "plt.xlabel(\"Epochs\")\n",
    "plt.ylabel(\"Loss/Accuracy\")\n",
    "plt.legend(loc=\"lower left\")\n",
    "plt.savefig('plot.png')"
   ]
  },
  {
   "cell_type": "code",
   "execution_count": null,
   "metadata": {},
   "outputs": [],
   "source": []
  }
 ],
 "metadata": {
  "kernelspec": {
   "display_name": "Python 3",
   "language": "python",
   "name": "python3"
  },
  "language_info": {
   "codemirror_mode": {
    "name": "ipython",
    "version": 3
   },
   "file_extension": ".py",
   "mimetype": "text/x-python",
   "name": "python",
   "nbconvert_exporter": "python",
   "pygments_lexer": "ipython3",
   "version": "3.6.5"
  }
 },
 "nbformat": 4,
 "nbformat_minor": 5
}
